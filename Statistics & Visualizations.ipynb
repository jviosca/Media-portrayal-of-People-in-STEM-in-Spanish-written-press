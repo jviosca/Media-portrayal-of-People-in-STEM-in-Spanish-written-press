{
 "cells": [
  {
   "cell_type": "markdown",
   "id": "65fcff22",
   "metadata": {},
   "source": [
    "# Statistics and charts"
   ]
  },
  {
   "cell_type": "markdown",
   "id": "d88d1e8b",
   "metadata": {},
   "source": [
    "1. [Rationale](#rationale)\n",
    "2. [Load dataset and libraries](#load-reqs)\n",
    "3. [Total number of quotes of people in STEM](#quotes-total)\n",
    "4. [Evolution of the number of articles quoting STEM people from 2016 to 2020](#quoting-articles-evolution)\n",
    "5. [Evolution of gender bias in quoted people in STEM from 2016 to 2020](#quoting-gender-evolution)\n",
    "6. [Distribution of quotes per newspaper ](#quotes-gender-newspaper)"
   ]
  },
  {
   "cell_type": "markdown",
   "id": "8d24fb86",
   "metadata": {},
   "source": [
    "## 1. Rationale <a class=\"anchor\" id=\"rationale\"></a>"
   ]
  },
  {
   "cell_type": "markdown",
   "id": "a17dc956",
   "metadata": {},
   "source": [
    "I analyze here if the number of men and women appearing in the Spanish newspapers are different. To do so, I will use Chi-square Goodness of Fit test, when 2 proportions are compared (i.e. number of men vs number of women in any given year) and Chi-square Independence test when several proportions are compared (i.e. number of men and women in several newspapers)."
   ]
  },
  {
   "cell_type": "markdown",
   "id": "80f46ac1",
   "metadata": {},
   "source": [
    "Always, number of people and mentions (i.e. quotes) refer to people names whose gender could be assigned. NER-collected names whose gender could not be assigned is generally due to the name not having a first name, which normally is due to a failure of the NER collection process (i.e. it is a institution, or a position, or family names only; in all these cases, the name is not considered for computing women/men mentions)."
   ]
  },
  {
   "cell_type": "markdown",
   "id": "fc4f7dbf",
   "metadata": {},
   "source": [
    "## 2. Load dataset and libraries <a class=\"anchor\" id=\"load-reqs\"></a>"
   ]
  },
  {
   "cell_type": "code",
   "execution_count": 66,
   "id": "afda24e5",
   "metadata": {},
   "outputs": [],
   "source": [
    "import pandas as pd\n",
    "import numpy as np\n",
    "import matplotlib.pyplot as plt\n",
    "import seaborn as sns\n",
    "from scipy.stats import chisquare\n",
    "from scipy.stats import chi2\n",
    "import itertools"
   ]
  },
  {
   "cell_type": "code",
   "execution_count": 67,
   "id": "1dda26ff",
   "metadata": {},
   "outputs": [],
   "source": [
    "articles = pd.read_csv('data/sample50k_articles_stats.csv', sep='‰', engine='python', index_col=0)\n",
    "people = pd.read_csv('data/sample50k_people_stats.csv', sep='‰', engine='python', index_col=0)"
   ]
  },
  {
   "cell_type": "markdown",
   "id": "b31e1d92",
   "metadata": {},
   "source": [
    "## 3. Total number of quotes of people in STEM <a class=\"anchor\" id=\"quotes-total\"></a>"
   ]
  },
  {
   "cell_type": "markdown",
   "id": "644967b0",
   "metadata": {},
   "source": [
    "### Mentions (same or different person)"
   ]
  },
  {
   "cell_type": "markdown",
   "id": "be395ce6",
   "metadata": {},
   "source": [
    "In the entire period studied, men are mentioned 2134 times, while women are mentioned only 716 times:"
   ]
  },
  {
   "cell_type": "code",
   "execution_count": 68,
   "id": "ffff476e",
   "metadata": {},
   "outputs": [
    {
     "data": {
      "text/plain": [
       "male       2140\n",
       "female      703\n",
       "unknown     458\n",
       "andy         61\n",
       "Name: gender, dtype: int64"
      ]
     },
     "execution_count": 68,
     "metadata": {},
     "output_type": "execute_result"
    }
   ],
   "source": [
    "people['gender'].value_counts()"
   ]
  },
  {
   "cell_type": "code",
   "execution_count": 69,
   "id": "da6266d6",
   "metadata": {},
   "outputs": [
    {
     "data": {
      "text/plain": [
       "703"
      ]
     },
     "execution_count": 69,
     "metadata": {},
     "output_type": "execute_result"
    }
   ],
   "source": [
    "articles['mentions_STEM_women'].sum()"
   ]
  },
  {
   "cell_type": "code",
   "execution_count": 70,
   "id": "a97fcf45",
   "metadata": {},
   "outputs": [
    {
     "data": {
      "text/plain": [
       "2140"
      ]
     },
     "execution_count": 70,
     "metadata": {},
     "output_type": "execute_result"
    }
   ],
   "source": [
    "articles['mentions_STEM_men'].sum()"
   ]
  },
  {
   "cell_type": "code",
   "execution_count": 71,
   "id": "fa05a449",
   "metadata": {},
   "outputs": [
    {
     "data": {
      "text/plain": [
       "2850"
      ]
     },
     "execution_count": 71,
     "metadata": {},
     "output_type": "execute_result"
    }
   ],
   "source": [
    "2134+716"
   ]
  },
  {
   "cell_type": "markdown",
   "id": "0af14c75",
   "metadata": {},
   "source": [
    "The difference is statistically significant:"
   ]
  },
  {
   "cell_type": "code",
   "execution_count": 72,
   "id": "4d593672",
   "metadata": {},
   "outputs": [
    {
     "name": "stdout",
     "output_type": "stream",
     "text": [
      "p = 0.00000\n"
     ]
    }
   ],
   "source": [
    "# chi-square test:\n",
    "mentions_women = articles['mentions_STEM_women'].sum()\n",
    "mentions_men = articles['mentions_STEM_men'].sum()\n",
    "chisq, p = chisquare([mentions_women, mentions_men])\n",
    "print(f'p = {p:4.5f}')"
   ]
  },
  {
   "cell_type": "code",
   "execution_count": 73,
   "id": "f73ec228",
   "metadata": {},
   "outputs": [
    {
     "name": "stdout",
     "output_type": "stream",
     "text": [
      "% of mentions of women in STEM = 24.7\n"
     ]
    }
   ],
   "source": [
    "print(\"% of mentions of women in STEM = {}\".format(round(100 * mentions_women / (mentions_women + mentions_men), 1)))"
   ]
  },
  {
   "cell_type": "markdown",
   "id": "0cdd4aa1",
   "metadata": {},
   "source": [
    "### Unique people"
   ]
  },
  {
   "cell_type": "markdown",
   "id": "61459656",
   "metadata": {},
   "source": [
    "1965 different men are mentioned, while only 672 different women are:"
   ]
  },
  {
   "cell_type": "code",
   "execution_count": 74,
   "id": "4569f6b8",
   "metadata": {},
   "outputs": [
    {
     "data": {
      "text/html": [
       "<div>\n",
       "<style scoped>\n",
       "    .dataframe tbody tr th:only-of-type {\n",
       "        vertical-align: middle;\n",
       "    }\n",
       "\n",
       "    .dataframe tbody tr th {\n",
       "        vertical-align: top;\n",
       "    }\n",
       "\n",
       "    .dataframe thead th {\n",
       "        text-align: right;\n",
       "    }\n",
       "</style>\n",
       "<table border=\"1\" class=\"dataframe\">\n",
       "  <thead>\n",
       "    <tr style=\"text-align: right;\">\n",
       "      <th></th>\n",
       "      <th>full_name</th>\n",
       "    </tr>\n",
       "    <tr>\n",
       "      <th>gender</th>\n",
       "      <th></th>\n",
       "    </tr>\n",
       "  </thead>\n",
       "  <tbody>\n",
       "    <tr>\n",
       "      <th>andy</th>\n",
       "      <td>61</td>\n",
       "    </tr>\n",
       "    <tr>\n",
       "      <th>female</th>\n",
       "      <td>673</td>\n",
       "    </tr>\n",
       "    <tr>\n",
       "      <th>male</th>\n",
       "      <td>1974</td>\n",
       "    </tr>\n",
       "    <tr>\n",
       "      <th>unknown</th>\n",
       "      <td>451</td>\n",
       "    </tr>\n",
       "  </tbody>\n",
       "</table>\n",
       "</div>"
      ],
      "text/plain": [
       "         full_name\n",
       "gender            \n",
       "andy            61\n",
       "female         673\n",
       "male          1974\n",
       "unknown        451"
      ]
     },
     "execution_count": 74,
     "metadata": {},
     "output_type": "execute_result"
    }
   ],
   "source": [
    "people.groupby('gender').nunique()"
   ]
  },
  {
   "cell_type": "markdown",
   "id": "b86e5fd1",
   "metadata": {},
   "source": [
    "Unique people (with assignable gender) identified"
   ]
  },
  {
   "cell_type": "code",
   "execution_count": 75,
   "id": "f2849b1c",
   "metadata": {},
   "outputs": [
    {
     "data": {
      "text/plain": [
       "2637"
      ]
     },
     "execution_count": 75,
     "metadata": {},
     "output_type": "execute_result"
    }
   ],
   "source": [
    "1965+672"
   ]
  },
  {
   "cell_type": "markdown",
   "id": "31721f1c",
   "metadata": {},
   "source": [
    "Considering women and men, the difference is again statistically significant:"
   ]
  },
  {
   "cell_type": "code",
   "execution_count": 76,
   "id": "44e1b2b5",
   "metadata": {},
   "outputs": [
    {
     "name": "stdout",
     "output_type": "stream",
     "text": [
      "p = 0.00000\n"
     ]
    }
   ],
   "source": [
    "# chi-square test:\n",
    "chisq, p = chisquare([672, 1965])\n",
    "print(f'p = {p:4.5f}')"
   ]
  },
  {
   "cell_type": "code",
   "execution_count": 77,
   "id": "33014fb2",
   "metadata": {},
   "outputs": [
    {
     "name": "stdout",
     "output_type": "stream",
     "text": [
      "% of women in STEM in Spanish press = 25.5\n"
     ]
    }
   ],
   "source": [
    "print(\"% of women in STEM in Spanish press = {}\".format(round(100 * 672 / (672 + 1965), 1)))"
   ]
  },
  {
   "cell_type": "markdown",
   "id": "18433e37",
   "metadata": {},
   "source": [
    "### % articles quoting STEM people"
   ]
  },
  {
   "cell_type": "markdown",
   "id": "98d2a5b3",
   "metadata": {},
   "source": [
    "Number of articles that mention at least 1 STEM person:"
   ]
  },
  {
   "cell_type": "code",
   "execution_count": 78,
   "id": "ea5d4602",
   "metadata": {},
   "outputs": [
    {
     "data": {
      "text/plain": [
       "(1845, 4)"
      ]
     },
     "execution_count": 78,
     "metadata": {},
     "output_type": "execute_result"
    }
   ],
   "source": [
    "articles_stem = articles.loc[(articles['mentions_STEM_men'] > 0) | (articles['mentions_STEM_women'] >0)]\n",
    "articles_stem.shape"
   ]
  },
  {
   "cell_type": "code",
   "execution_count": 79,
   "id": "0c39bfbc",
   "metadata": {},
   "outputs": [
    {
     "name": "stdout",
     "output_type": "stream",
     "text": [
      "% articles with 1 or more STEM mentions = 7.1% (n=1845)\n"
     ]
    }
   ],
   "source": [
    "print(\"% articles with 1 or more STEM mentions = {}% (n={})\".format(\\\n",
    "                round(100 * articles_stem.shape[0]/articles.shape[0], 1), articles_stem.shape[0]))"
   ]
  },
  {
   "cell_type": "code",
   "execution_count": 80,
   "id": "bb7859a5",
   "metadata": {},
   "outputs": [
    {
     "name": "stdout",
     "output_type": "stream",
     "text": [
      "% articles mentioning women in STEM = 2.3%\n"
     ]
    }
   ],
   "source": [
    "mentions_women = articles.loc[articles['mentions_STEM_women'] > 0]\n",
    "print(\"% articles mentioning women in STEM = {}%\".format(round(100 * mentions_women.shape[0]/articles.shape[0], 1)))"
   ]
  },
  {
   "cell_type": "code",
   "execution_count": 81,
   "id": "5827a7bd",
   "metadata": {},
   "outputs": [
    {
     "name": "stdout",
     "output_type": "stream",
     "text": [
      "% articles mentioning men in STEM = 5.7%\n"
     ]
    }
   ],
   "source": [
    "mentions_men = articles.loc[articles['mentions_STEM_men'] > 0]\n",
    "print(\"% articles mentioning men in STEM = {}%\".format(round(100 * mentions_men.shape[0]/articles.shape[0], 1)))"
   ]
  },
  {
   "cell_type": "markdown",
   "id": "52501e75",
   "metadata": {},
   "source": [
    "% women mentions from the total of mentions:"
   ]
  },
  {
   "cell_type": "code",
   "execution_count": 82,
   "id": "08f15de1",
   "metadata": {},
   "outputs": [
    {
     "name": "stdout",
     "output_type": "stream",
     "text": [
      "From the total of articles mentioning at least 1 STEM person,\n",
      "the % of women mentions is = 24.7% and the % of men mentions is = 75.3%\n"
     ]
    }
   ],
   "source": [
    "mentions_men_stem = articles_stem['mentions_STEM_men'].sum()\n",
    "mentions_women_stem = articles_stem['mentions_STEM_women'].sum()\n",
    "pcg_mentions_men = 100 * mentions_men_stem / (mentions_men_stem + mentions_women_stem)\n",
    "pcg_mentions_women = 100 * mentions_women_stem / (mentions_men_stem + mentions_women_stem)\n",
    "print(\"From the total of articles mentioning at least 1 STEM person,\\nthe % of women mentions is = {}% \\\n",
    "and the % of men mentions is = {}%\".format(round(pcg_mentions_women,1), round(pcg_mentions_men,1)))"
   ]
  },
  {
   "cell_type": "markdown",
   "id": "be2595bb",
   "metadata": {},
   "source": [
    "### Gender difference in the distribution of article frequency by number of quotes/article"
   ]
  },
  {
   "cell_type": "code",
   "execution_count": 83,
   "id": "c746b498",
   "metadata": {},
   "outputs": [],
   "source": [
    "#men_color = '#fd625e'\n",
    "#men_color = '#808080'\n",
    "#men_color = '#393939'\n",
    "men_color = '#555'\n",
    "men_color_light = '#c6c6c6'\n",
    "#women_color = '#01b8aa'\n",
    "#women_color = '#90EE90'\n",
    "#women_color = '#4B0082'\n",
    "#women_color = '#8300e4'\n",
    "women_color = '#7a00d4'\n",
    "women_color_light = '#d7a1ff'\n",
    "common_color='#200039'"
   ]
  },
  {
   "cell_type": "code",
   "execution_count": 84,
   "id": "9dad045d",
   "metadata": {},
   "outputs": [],
   "source": [
    "def distribution_article_mentions_gender(men_data, women_data):\n",
    "    ''' Plots a bidirectional horizontal histogram of the number of articles vs the number of mentions in the article\n",
    "    \n",
    "    INPUT:\n",
    "        men_data (pandas series): 'mentions_STEM_men' column of articles dataframe, filtered for those with at least \n",
    "        1 mention of men\n",
    "        women_data (pandas series): 'mentions_STEM_women' column of articles dataframe, filtered for those with at \n",
    "        least 1 mention of men\n",
    "    '''\n",
    "    # get counts and labels\n",
    "    labels_male, counts_male = np.unique(men_data, return_counts=True)\n",
    "    labels_female, counts_female = np.unique(women_data, return_counts=True)\n",
    "    labels_male = list(labels_male)\n",
    "    labels_female = list(labels_female)\n",
    "    # build charts\n",
    "    fig, axes = plt.subplots(figsize=(7,3), ncols=2, sharey=True)\n",
    "    bar_male = axes[0].barh(labels_male, counts_male, align='center', color=men_color, zorder=10)\n",
    "    axes[0].set_title('Men', fontsize=12, pad=5, color=men_color)\n",
    "    bar_female = axes[1].barh(labels_female, counts_female, align='center', color=women_color, zorder=10)\n",
    "    axes[1].set_title('Women', fontsize=12, pad=5, color=women_color)\n",
    "    # invert axis (mirrow x, y from highest to lowest value)\n",
    "    axes[0].invert_xaxis() \n",
    "    plt.gca().invert_yaxis()\n",
    "    # y axis label\n",
    "    axes[0].set(ylabel='# MEN quoted \\nin the same article')\n",
    "    axes[0].yaxis.label.set_color(men_color)\n",
    "    axes[0].yaxis.label.set_fontsize(9)\n",
    "    axes[1].set(ylabel='# WOMEN quoted \\nin the same article')\n",
    "    axes[1].yaxis.label.set_color(women_color)\n",
    "    axes[1].yaxis.set_label_position('right')\n",
    "    axes[1].yaxis.label.set_fontsize(9)\n",
    "    # y axis tick format\n",
    "    all_labels = list(set(labels_male + labels_female))\n",
    "    plt.gca().set_yticks(all_labels)\n",
    "    axes[0].yaxis.tick_right()\n",
    "    axes[0].set_yticklabels(all_labels, ha='center', color=common_color)\n",
    "    axes[0].tick_params(axis='y', pad=11, size=15, color=men_color_light)\n",
    "    axes[1].tick_params(axis='y', size=15, color=women_color_light)\n",
    "    # set tick values in x axis\n",
    "    axes[0].set_xticks([200, 1200])\n",
    "    axes[1].set_xticks([200, 1200])\n",
    "    # remove square surrounding chart and keep only used axes\n",
    "    axes[0].spines['left'].set_visible(False)\n",
    "    axes[0].spines['top'].set_visible(False)\n",
    "    axes[1].spines['right'].set_visible(False)\n",
    "    axes[1].spines['top'].set_visible(False)\n",
    "    # change axes colors\n",
    "    axes[0].spines['bottom'].set_color(men_color_light)\n",
    "    axes[0].spines['right'].set_color(men_color_light)\n",
    "    axes[1].spines['bottom'].set_color(women_color_light)\n",
    "    axes[1].spines['left'].set_color(women_color_light)\n",
    "    axes[0].tick_params(axis='x', colors=men_color_light)\n",
    "    axes[1].tick_params(axis='x', colors=women_color_light)\n",
    "    axes[0].xaxis.label.set_color(men_color)\n",
    "    axes[1].xaxis.label.set_color(women_color)\n",
    "    # show bar value\n",
    "    axes[0].bar_label(bar_male, padding=2, color=men_color, size=8)\n",
    "    axes[1].bar_label(bar_female, padding=2, color=women_color, size=8)\n",
    "    # Plot title\n",
    "    fig.supxlabel('# articles', y=-0.05, color=common_color)\n",
    "    # Annotation below x axis label\n",
    "    plt.figtext(0.30, -0.12, '5200 articles sampled each year from 2016 to 2020', size=8, color=common_color)\n",
    "    plt.figtext(0.29, -0.16, '1300 articles from each of the 4 newspapers analyzed', size=8, color=common_color)\n",
    "    plt.figtext(0.21, -0.20, 'Only articles mentioning at least 1 STEM person are considered (n=1850)', size=8, color=common_color)\n",
    "    # Subplot arrangement\n",
    "    plt.subplots_adjust(wspace=0.3, top=0.80)\n",
    "    # Chart title\n",
    "    fig.suptitle('Distribution of article quotes from STEM people by Gender', fontsize=14, color=common_color)\n",
    "    plt.savefig('img/distribution_article_mentions_genre.png', bbox_inches=\"tight\", dpi=200)\n",
    "    plt.show()"
   ]
  },
  {
   "cell_type": "code",
   "execution_count": 85,
   "id": "37597f6a",
   "metadata": {},
   "outputs": [
    {
     "data": {
      "image/png": "[encoded data removed]",
      "text/plain": [
       "<Figure size 700x300 with 2 Axes>"
      ]
     },
     "metadata": {},
     "output_type": "display_data"
    }
   ],
   "source": [
    "distribution_article_mentions_gender(articles.loc[articles['mentions_STEM_men']>0]['mentions_STEM_men'], \\\n",
    "                               articles.loc[articles['mentions_STEM_women']>0]['mentions_STEM_women'])"
   ]
  },
  {
   "cell_type": "markdown",
   "id": "a577f73b",
   "metadata": {},
   "source": [
    "### Distribution of most quoted people in STEM by gender"
   ]
  },
  {
   "cell_type": "markdown",
   "id": "7a327186",
   "metadata": {},
   "source": [
    "Most people receive 1 mention. There are 124 people that are mentioned in 2 articles, 22 people that are mentioned in 3 articles, 5 people that are mentioned in 4-5 articles and 1 person who is mentioned in 11."
   ]
  },
  {
   "cell_type": "code",
   "execution_count": 86,
   "id": "57f29a5d",
   "metadata": {},
   "outputs": [
    {
     "data": {
      "text/plain": [
       "article_id\n",
       "1             2495\n",
       "2              124\n",
       "3               22\n",
       "4                3\n",
       "5                2\n",
       "12               1\n",
       "dtype: int64"
      ]
     },
     "execution_count": 86,
     "metadata": {},
     "output_type": "execute_result"
    }
   ],
   "source": [
    "people_with_gender = people.loc[people['gender'].isin(['male','female'])].reset_index().groupby(['full_name','gender'])[['article_id']].count()\n",
    "people_with_gender.value_counts()"
   ]
  },
  {
   "cell_type": "markdown",
   "id": "df8b2162",
   "metadata": {},
   "source": [
    "Let's explore the most mentioned people"
   ]
  },
  {
   "cell_type": "code",
   "execution_count": 87,
   "id": "1179a47b",
   "metadata": {},
   "outputs": [
    {
     "data": {
      "text/html": [
       "<div>\n",
       "<style scoped>\n",
       "    .dataframe tbody tr th:only-of-type {\n",
       "        vertical-align: middle;\n",
       "    }\n",
       "\n",
       "    .dataframe tbody tr th {\n",
       "        vertical-align: top;\n",
       "    }\n",
       "\n",
       "    .dataframe thead th {\n",
       "        text-align: right;\n",
       "    }\n",
       "</style>\n",
       "<table border=\"1\" class=\"dataframe\">\n",
       "  <thead>\n",
       "    <tr style=\"text-align: right;\">\n",
       "      <th></th>\n",
       "      <th></th>\n",
       "      <th>article_id</th>\n",
       "    </tr>\n",
       "    <tr>\n",
       "      <th>full_name</th>\n",
       "      <th>gender</th>\n",
       "      <th></th>\n",
       "    </tr>\n",
       "  </thead>\n",
       "  <tbody>\n",
       "    <tr>\n",
       "      <th>Gay de Liébana</th>\n",
       "      <th>male</th>\n",
       "      <td>12</td>\n",
       "    </tr>\n",
       "    <tr>\n",
       "      <th>Mies van der Rohe</th>\n",
       "      <th>male</th>\n",
       "      <td>5</td>\n",
       "    </tr>\n",
       "    <tr>\n",
       "      <th>Mark Zuckerberg</th>\n",
       "      <th>male</th>\n",
       "      <td>5</td>\n",
       "    </tr>\n",
       "    <tr>\n",
       "      <th>José María Martínez</th>\n",
       "      <th>male</th>\n",
       "      <td>4</td>\n",
       "    </tr>\n",
       "    <tr>\n",
       "      <th>José María Madiedo</th>\n",
       "      <th>male</th>\n",
       "      <td>4</td>\n",
       "    </tr>\n",
       "    <tr>\n",
       "      <th>...</th>\n",
       "      <th>...</th>\n",
       "      <td>...</td>\n",
       "    </tr>\n",
       "    <tr>\n",
       "      <th>Ferran Brunet</th>\n",
       "      <th>male</th>\n",
       "      <td>2</td>\n",
       "    </tr>\n",
       "    <tr>\n",
       "      <th>Fernando Vallespín</th>\n",
       "      <th>male</th>\n",
       "      <td>2</td>\n",
       "    </tr>\n",
       "    <tr>\n",
       "      <th>Fernando Trujillo</th>\n",
       "      <th>male</th>\n",
       "      <td>2</td>\n",
       "    </tr>\n",
       "    <tr>\n",
       "      <th>Fernando Suárez</th>\n",
       "      <th>male</th>\n",
       "      <td>2</td>\n",
       "    </tr>\n",
       "    <tr>\n",
       "      <th>Àngel Cuadras</th>\n",
       "      <th>male</th>\n",
       "      <td>2</td>\n",
       "    </tr>\n",
       "  </tbody>\n",
       "</table>\n",
       "<p>152 rows × 1 columns</p>\n",
       "</div>"
      ],
      "text/plain": [
       "                            article_id\n",
       "full_name           gender            \n",
       "Gay de Liébana      male            12\n",
       "Mies van der Rohe   male             5\n",
       "Mark Zuckerberg     male             5\n",
       "José María Martínez male             4\n",
       "José María Madiedo  male             4\n",
       "...                                ...\n",
       "Ferran Brunet       male             2\n",
       "Fernando Vallespín  male             2\n",
       "Fernando Trujillo   male             2\n",
       "Fernando Suárez     male             2\n",
       "Àngel Cuadras       male             2\n",
       "\n",
       "[152 rows x 1 columns]"
      ]
     },
     "execution_count": 87,
     "metadata": {},
     "output_type": "execute_result"
    }
   ],
   "source": [
    "popular_people = people_with_gender.loc[people_with_gender['article_id']>1]\n",
    "popular_people.sort_values('article_id', ascending=False)"
   ]
  },
  {
   "cell_type": "code",
   "execution_count": 88,
   "id": "d51f37ac",
   "metadata": {},
   "outputs": [
    {
     "data": {
      "text/html": [
       "<div>\n",
       "<style scoped>\n",
       "    .dataframe tbody tr th:only-of-type {\n",
       "        vertical-align: middle;\n",
       "    }\n",
       "\n",
       "    .dataframe tbody tr th {\n",
       "        vertical-align: top;\n",
       "    }\n",
       "\n",
       "    .dataframe thead th {\n",
       "        text-align: right;\n",
       "    }\n",
       "</style>\n",
       "<table border=\"1\" class=\"dataframe\">\n",
       "  <thead>\n",
       "    <tr style=\"text-align: right;\">\n",
       "      <th></th>\n",
       "      <th></th>\n",
       "      <th>full_name</th>\n",
       "    </tr>\n",
       "    <tr>\n",
       "      <th>gender</th>\n",
       "      <th>article_id</th>\n",
       "      <th></th>\n",
       "    </tr>\n",
       "  </thead>\n",
       "  <tbody>\n",
       "    <tr>\n",
       "      <th rowspan=\"2\" valign=\"top\">female</th>\n",
       "      <th>2</th>\n",
       "      <td>26</td>\n",
       "    </tr>\n",
       "    <tr>\n",
       "      <th>3</th>\n",
       "      <td>2</td>\n",
       "    </tr>\n",
       "    <tr>\n",
       "      <th rowspan=\"5\" valign=\"top\">male</th>\n",
       "      <th>2</th>\n",
       "      <td>98</td>\n",
       "    </tr>\n",
       "    <tr>\n",
       "      <th>3</th>\n",
       "      <td>20</td>\n",
       "    </tr>\n",
       "    <tr>\n",
       "      <th>4</th>\n",
       "      <td>3</td>\n",
       "    </tr>\n",
       "    <tr>\n",
       "      <th>5</th>\n",
       "      <td>2</td>\n",
       "    </tr>\n",
       "    <tr>\n",
       "      <th>12</th>\n",
       "      <td>1</td>\n",
       "    </tr>\n",
       "  </tbody>\n",
       "</table>\n",
       "</div>"
      ],
      "text/plain": [
       "                   full_name\n",
       "gender article_id           \n",
       "female 2                  26\n",
       "       3                   2\n",
       "male   2                  98\n",
       "       3                  20\n",
       "       4                   3\n",
       "       5                   2\n",
       "       12                  1"
      ]
     },
     "execution_count": 88,
     "metadata": {},
     "output_type": "execute_result"
    }
   ],
   "source": [
    "popular_people.reset_index().groupby(['gender','article_id']).count()"
   ]
  },
  {
   "cell_type": "code",
   "execution_count": 89,
   "id": "5b66eba8",
   "metadata": {},
   "outputs": [],
   "source": [
    "def distribution_people_mentions_gender(men_data, women_data):\n",
    "    ''' Plots a bidirectional horizontal histogram of the number of articles vs the number of mentions in the article\n",
    "    \n",
    "    INPUT:\n",
    "        men_data (pandas series): index = number of articles mentioning 1 STEM person (male)\n",
    "        values = number of people whose number of mentions (articles) is the index value\n",
    "        (i.e. 150 men has 2 mentions, 20 men has 3 mentions, 5 men has 7 mentions) \n",
    "        \n",
    "        women_data (pandas series): as with men data but with women data\n",
    "    '''\n",
    "    # get counts and labels\n",
    "    labels_male = men_data.index\n",
    "    counts_male = men_data.values\n",
    "    labels_female = women_data.index\n",
    "    counts_female = women_data.values\n",
    "    labels_male = list(labels_male)\n",
    "    labels_female = list(labels_female)\n",
    "    # build charts\n",
    "    fig, axes = plt.subplots(figsize=(7,3), ncols=2, sharey=True)\n",
    "    bar_male = axes[0].barh(labels_male, counts_male, align='center', color=men_color, zorder=10)\n",
    "    axes[0].set_title('Men', fontsize=12, pad=5, color=men_color)\n",
    "    bar_female = axes[1].barh(labels_female, counts_female, align='center', color=women_color, zorder=10)\n",
    "    axes[1].set_title('Women', fontsize=12, pad=5, color=women_color)\n",
    "    # invert axis (mirrow x, y from highest to lowest value)\n",
    "    axes[0].invert_xaxis() \n",
    "    plt.gca().invert_yaxis()\n",
    "    # y axis label\n",
    "    axes[0].set(ylabel='# articles quoting \\nthe same MAN')\n",
    "    axes[0].yaxis.label.set_color(men_color)\n",
    "    axes[0].yaxis.label.set_fontsize(9)\n",
    "    axes[1].set(ylabel='# articles quoting \\nthe same WOMAN')\n",
    "    axes[1].yaxis.label.set_color(women_color)\n",
    "    axes[1].yaxis.set_label_position('right')\n",
    "    axes[1].yaxis.label.set_fontsize(9)\n",
    "    # y axis tick format\n",
    "    all_labels = list(set(labels_male + labels_female))\n",
    "    plt.gca().set_yticks(all_labels)\n",
    "    axes[0].yaxis.tick_right()\n",
    "    axes[0].set_yticklabels(all_labels, ha='center', color=common_color)\n",
    "    axes[0].tick_params(axis='y', pad=11, size=15, color=men_color_light)\n",
    "    axes[1].tick_params(axis='y', size=15, color=women_color_light)\n",
    "    # set tick values in x axis\n",
    "    axes[0].set_xticks([10, 100])\n",
    "    axes[1].set_xticks([10, 100])\n",
    "    # remove square surrounding chart and keep only used axes\n",
    "    axes[0].spines['left'].set_visible(False)\n",
    "    axes[0].spines['top'].set_visible(False)\n",
    "    axes[1].spines['right'].set_visible(False)\n",
    "    axes[1].spines['top'].set_visible(False)\n",
    "    # change axes colors\n",
    "    axes[0].spines['bottom'].set_color(men_color_light)\n",
    "    axes[0].spines['right'].set_color(men_color_light)\n",
    "    axes[1].spines['bottom'].set_color(women_color_light)\n",
    "    axes[1].spines['left'].set_color(women_color_light)\n",
    "    axes[0].tick_params(axis='x', colors=men_color_light)\n",
    "    axes[1].tick_params(axis='x', colors=women_color_light)\n",
    "    axes[0].xaxis.label.set_color(men_color)\n",
    "    axes[1].xaxis.label.set_color(women_color)\n",
    "    # show bar value\n",
    "    axes[0].bar_label(bar_male, padding=2, color=men_color, size=8)\n",
    "    axes[1].bar_label(bar_female, padding=2, color=women_color, size=8)\n",
    "    # Plot title\n",
    "    fig.supxlabel('# STEM people', y=-0.05, color=common_color)\n",
    "    # Annotation below x axis label\n",
    "    plt.figtext(0.30, -0.12, '5200 articles sampled each year from 2016 to 2020', size=8, color=common_color)\n",
    "    plt.figtext(0.29, -0.16, '1300 articles from each of the 4 newspapers analyzed', size=8, color=common_color)\n",
    "    plt.figtext(0.25, -0.20, 'Only people being quoted at least twice are considered (n=151)', size=8, color=common_color)\n",
    "    # Subplot arrangement\n",
    "    plt.subplots_adjust(wspace=0.3, top=0.80)\n",
    "    # Chart title\n",
    "    fig.suptitle('Distribution of top popularity among STEM people by Gender', fontsize=14, color=common_color)\n",
    "    plt.savefig('img/distribution_people_mentions_genre.png', bbox_inches=\"tight\", dpi=200)\n",
    "    plt.show()"
   ]
  },
  {
   "cell_type": "code",
   "execution_count": 90,
   "id": "cbb89e3d",
   "metadata": {},
   "outputs": [
    {
     "data": {
      "image/png": "[encoded data removed]",
      "text/plain": [
       "<Figure size 700x300 with 2 Axes>"
      ]
     },
     "metadata": {},
     "output_type": "display_data"
    }
   ],
   "source": [
    "vals_popular_people = popular_people.reset_index().groupby(['gender','article_id']).count()['full_name']\n",
    "distribution_people_mentions_gender(vals_popular_people['male',:], vals_popular_people['female',:])"
   ]
  },
  {
   "cell_type": "markdown",
   "id": "a2aeecdc",
   "metadata": {},
   "source": [
    "## 4. Evolution of the number of articles quoting STEM people from 2016 to 2020 <a class=\"anchor\" id=\"quoting-articles-evolution\"></a>"
   ]
  },
  {
   "cell_type": "markdown",
   "id": "66b60d8e",
   "metadata": {},
   "source": [
    "Total number of articles analyzed each year:"
   ]
  },
  {
   "cell_type": "code",
   "execution_count": 91,
   "id": "83f6de68",
   "metadata": {},
   "outputs": [],
   "source": [
    "articles['frontpage_date'] = pd.to_datetime(articles['frontpage_date'], format= '%Y-%m-%d')\n",
    "articles['year'] = articles['frontpage_date'].dt.year"
   ]
  },
  {
   "cell_type": "code",
   "execution_count": 92,
   "id": "f0518572",
   "metadata": {},
   "outputs": [
    {
     "data": {
      "text/plain": [
       "year\n",
       "2016    5200\n",
       "2017    5200\n",
       "2018    5200\n",
       "2019    5200\n",
       "2020    5200\n",
       "Name: article_id, dtype: int64"
      ]
     },
     "execution_count": 92,
     "metadata": {},
     "output_type": "execute_result"
    }
   ],
   "source": [
    "articles.reset_index().groupby('year')['article_id'].count()"
   ]
  },
  {
   "cell_type": "markdown",
   "id": "9faab4c1",
   "metadata": {},
   "source": [
    "Number of articles mentioning STEM people:"
   ]
  },
  {
   "cell_type": "code",
   "execution_count": 93,
   "id": "0679c4cb",
   "metadata": {},
   "outputs": [
    {
     "data": {
      "text/plain": [
       "year\n",
       "2016    346\n",
       "2017    330\n",
       "2018    371\n",
       "2019    383\n",
       "2020    415\n",
       "Name: article_id, dtype: int64"
      ]
     },
     "execution_count": 93,
     "metadata": {},
     "output_type": "execute_result"
    }
   ],
   "source": [
    "articles.reset_index().loc[(articles.reset_index()['mentions_STEM_men'] > 0) | (articles.reset_index()['mentions_STEM_women'] >0)].groupby('year')['article_id'].count()"
   ]
  },
  {
   "cell_type": "markdown",
   "id": "52c23876",
   "metadata": {},
   "source": [
    "There is also a statistically significant difference across years (p=0.02). However, pairwise comparisons, applying bonferroni correction, reveals that the only different year is 2020 when compared with 2017. All the rest comparisons are not statistically different. This suggests that in 2020 the number of STEM mentions has increased, which probably is due to the appearance of the pandemic. Because of this, an increase in 2020 in mentions of women or men cannot be considered to be due to a heightened awareness, unless this baseline increase is considered."
   ]
  },
  {
   "cell_type": "code",
   "execution_count": 94,
   "id": "e08e6645",
   "metadata": {},
   "outputs": [
    {
     "name": "stdout",
     "output_type": "stream",
     "text": [
      "p = 0.02268\n"
     ]
    }
   ],
   "source": [
    "# chi-square test:\n",
    "chisq, p = chisquare([348, 331, 373, 383, 415])\n",
    "print(f'p = {p:4.5f}')"
   ]
  },
  {
   "cell_type": "code",
   "execution_count": 95,
   "id": "1b0e8480",
   "metadata": {},
   "outputs": [],
   "source": [
    "def pairwise_years_comparisons(data_dictionary):\n",
    "    ''' Performs chi square for all pair-wise combinations in input dictionary and prints\n",
    "    if statistically significant (applying bonferroni correction)\n",
    "    \n",
    "    INPUT:\n",
    "        data_dictionary (dict): contains years as keys and counts as values\n",
    "    '''\n",
    "    are_there_diffs = False\n",
    "    pair_wise = list(itertools.combinations(data_dictionary,2))\n",
    "    bonferroni_corrected_alpha = 0.05 / len(pair_wise)\n",
    "    for year1,year2 in pair_wise:\n",
    "        chisq, p = chisquare([data_dictionary[year1],data_dictionary[year2]])\n",
    "        if p < bonferroni_corrected_alpha:\n",
    "            print(\"{} and {} are statistically different, p = {:4.5f}\".format(year1, year2, p))\n",
    "            are_there_diffs = True\n",
    "    if are_there_diffs == False:\n",
    "        print(\"There are no pairwise differences\")\n",
    "    print(\"Bonferroni corrected alpha = {}\".format(bonferroni_corrected_alpha))   "
   ]
  },
  {
   "cell_type": "code",
   "execution_count": 96,
   "id": "7dadf81d",
   "metadata": {},
   "outputs": [
    {
     "name": "stdout",
     "output_type": "stream",
     "text": [
      "2017 and 2020 are statistically different, p = 0.00210\n",
      "Bonferroni corrected alpha = 0.005\n"
     ]
    }
   ],
   "source": [
    "articles_per_year = {2016:348,2017:331,2018:373,2019:383,2020:415}\n",
    "pairwise_years_comparisons(articles_per_year)"
   ]
  },
  {
   "cell_type": "markdown",
   "id": "cb7fc857",
   "metadata": {},
   "source": [
    "## 5. Evolution of gender bias in quoted people in STEM from 2016 to 2020 <a class=\"anchor\" id=\"quoting-gender-evolution\"></a>"
   ]
  },
  {
   "cell_type": "code",
   "execution_count": 97,
   "id": "d532840b",
   "metadata": {},
   "outputs": [],
   "source": [
    "articles['frontpage_date'] = pd.to_datetime(articles['frontpage_date'], format='%Y-%m-%d')\n",
    "articles['year'] = articles['frontpage_date'].dt.year"
   ]
  },
  {
   "cell_type": "code",
   "execution_count": 98,
   "id": "f9ffb88d",
   "metadata": {},
   "outputs": [],
   "source": [
    "people_years = people.merge(articles[['year']], left_index=True, right_index=True)\n",
    "people_years.reset_index(inplace=True)"
   ]
  },
  {
   "cell_type": "markdown",
   "id": "d5fe853d",
   "metadata": {},
   "source": [
    "### Gender difference in the number of quotes"
   ]
  },
  {
   "cell_type": "code",
   "execution_count": 99,
   "id": "52b0d67e",
   "metadata": {},
   "outputs": [
    {
     "data": {
      "text/plain": [
       "year  gender\n",
       "2016  female    124\n",
       "      male      368\n",
       "2017  female    119\n",
       "      male      374\n",
       "2018  female    132\n",
       "      male      471\n",
       "2019  female    160\n",
       "      male      454\n",
       "2020  female    168\n",
       "      male      473\n",
       "Name: article_id, dtype: int64"
      ]
     },
     "execution_count": 99,
     "metadata": {},
     "output_type": "execute_result"
    }
   ],
   "source": [
    "people_years.loc[people_years['gender'].isin(['female', 'male'])].groupby(['year', 'gender'])['article_id'].count()"
   ]
  },
  {
   "cell_type": "markdown",
   "id": "ca5050a4",
   "metadata": {},
   "source": [
    "#### Is the distribution of mentions of men and women different across years?"
   ]
  },
  {
   "cell_type": "code",
   "execution_count": 100,
   "id": "ec3abf72",
   "metadata": {},
   "outputs": [],
   "source": [
    "mentions_men_years = dict(people_years.loc[people_years['gender']=='male'].groupby('year')['article_id'].count())\n",
    "mentions_women_years = dict(people_years.loc[people_years['gender']=='female'].groupby('year')['article_id'].count())"
   ]
  },
  {
   "cell_type": "code",
   "execution_count": 101,
   "id": "dce1f6b1",
   "metadata": {},
   "outputs": [],
   "source": [
    "def gender_yearly_comparison(men_dict, women_dict, variable_of_interest):\n",
    "    ''' Compares men and women for all years\n",
    "    \n",
    "    INPUT:\n",
    "        men_dict (dictionary): years as keys\n",
    "        women_dict (dictionary)_ years as keys\n",
    "        variable_of_interest (string): name of variable to compare between women and men\n",
    "    '''\n",
    "    are_there_diffs = False\n",
    "    bonferroni_corrected_alpha = 0.05 / len(women_dict)\n",
    "    for year in range (min(women_dict), max(women_dict) + 1):\n",
    "        chisq, p = chisquare([men_dict[year], women_dict[year]])\n",
    "        if p < bonferroni_corrected_alpha:\n",
    "            print(\"{} are different in year {}, p = {:4.5f}\".format(variable_of_interest, year, p))\n",
    "            are_there_diffs = True\n",
    "    if are_there_diffs == False:\n",
    "        print(\"There are no differences between women and men in any year\")\n",
    "    print(\"Bonferroni corrected alpha = {}\".format(bonferroni_corrected_alpha))        "
   ]
  },
  {
   "cell_type": "code",
   "execution_count": 102,
   "id": "807f31e8",
   "metadata": {},
   "outputs": [
    {
     "name": "stdout",
     "output_type": "stream",
     "text": [
      "Mentions of men and women are different in year 2016, p = 0.00000\n",
      "Mentions of men and women are different in year 2017, p = 0.00000\n",
      "Mentions of men and women are different in year 2018, p = 0.00000\n",
      "Mentions of men and women are different in year 2019, p = 0.00000\n",
      "Mentions of men and women are different in year 2020, p = 0.00000\n",
      "Bonferroni corrected alpha = 0.01\n"
     ]
    }
   ],
   "source": [
    "gender_yearly_comparison(mentions_men_years, mentions_women_years, 'Mentions of men and women')"
   ]
  },
  {
   "cell_type": "markdown",
   "id": "d0f6b2ff",
   "metadata": {},
   "source": [
    "#### Do mentions of men change across years?"
   ]
  },
  {
   "cell_type": "markdown",
   "id": "c9bd120d",
   "metadata": {},
   "source": [
    "There is a significant difference across years:"
   ]
  },
  {
   "cell_type": "code",
   "execution_count": 103,
   "id": "70b02fd2",
   "metadata": {},
   "outputs": [
    {
     "name": "stdout",
     "output_type": "stream",
     "text": [
      "p = 0.00003\n"
     ]
    }
   ],
   "source": [
    "mentions_men = [mentions_men_years[key] for key in mentions_men_years]\n",
    "# chi-square test:\n",
    "chisq, p = chisquare(mentions_men)\n",
    "print(f'p = {p:4.5f}')"
   ]
  },
  {
   "cell_type": "markdown",
   "id": "19a93502",
   "metadata": {},
   "source": [
    "Pairwise combinations show that 2016 and 2017 are different from 2018, 2019 and 2020:"
   ]
  },
  {
   "cell_type": "code",
   "execution_count": 104,
   "id": "c78e0ffa",
   "metadata": {
    "scrolled": true
   },
   "outputs": [
    {
     "name": "stdout",
     "output_type": "stream",
     "text": [
      "2016 and 2018 are statistically different, p = 0.00038\n",
      "2016 and 2019 are statistically different, p = 0.00270\n",
      "2016 and 2020 are statistically different, p = 0.00029\n",
      "2017 and 2018 are statistically different, p = 0.00085\n",
      "2017 and 2020 are statistically different, p = 0.00067\n",
      "Bonferroni corrected alpha = 0.005\n"
     ]
    }
   ],
   "source": [
    "pairwise_years_comparisons(mentions_men_years)"
   ]
  },
  {
   "cell_type": "markdown",
   "id": "a30b3c90",
   "metadata": {},
   "source": [
    "#### Do mentions of women change across years?"
   ]
  },
  {
   "cell_type": "code",
   "execution_count": 105,
   "id": "cb188c44",
   "metadata": {},
   "outputs": [
    {
     "name": "stdout",
     "output_type": "stream",
     "text": [
      "p = 0.00789\n"
     ]
    }
   ],
   "source": [
    "mentions_women = [mentions_women_years[key] for key in mentions_women_years]\n",
    "# chi-square test:\n",
    "chisq, p = chisquare(mentions_women)\n",
    "print(f'p = {p:4.5f}')"
   ]
  },
  {
   "cell_type": "markdown",
   "id": "44568449",
   "metadata": {},
   "source": [
    "There is evidence that not all years are equal (above). However, when doing pair-wise comparisons, there is a significant difference only between years 2020 and 2017. This is in stark contrast with men, where there is highly significant increase in the latter years compared to all the earlier years."
   ]
  },
  {
   "cell_type": "code",
   "execution_count": 106,
   "id": "ff67e34c",
   "metadata": {},
   "outputs": [
    {
     "name": "stdout",
     "output_type": "stream",
     "text": [
      "2017 and 2020 are statistically different, p = 0.00382\n",
      "Bonferroni corrected alpha = 0.005\n"
     ]
    }
   ],
   "source": [
    "pairwise_years_comparisons(mentions_women_years)"
   ]
  },
  {
   "cell_type": "markdown",
   "id": "8a9ff873",
   "metadata": {},
   "source": [
    "### Unique men and women quoted throughout years"
   ]
  },
  {
   "cell_type": "code",
   "execution_count": 107,
   "id": "88bdc9bc",
   "metadata": {},
   "outputs": [
    {
     "data": {
      "text/plain": [
       "1.3"
      ]
     },
     "execution_count": 107,
     "metadata": {},
     "output_type": "execute_result"
    }
   ],
   "source": [
    "round(1.25,1)+0.1"
   ]
  },
  {
   "cell_type": "code",
   "execution_count": 108,
   "id": "f6a182c0",
   "metadata": {},
   "outputs": [],
   "source": [
    "def unique_people_years(counts_male, counts_female):\n",
    "    ''' Plot a mirror horizontal bar from 2016 to 2020\n",
    "    \n",
    "    INPUT:\n",
    "        counts_male (numpy array): \n",
    "        counts_female (numpy array): \n",
    "    '''\n",
    "\n",
    "    labels = [2016, 2017, 2018, 2019, 2020]\n",
    "    # build charts\n",
    "    fig, axes = plt.subplots(figsize=(7,1.75), ncols=2, sharey=True)\n",
    "    bar_male = axes[0].barh(labels, counts_male, align='center', color=men_color, zorder=10)\n",
    "    axes[0].set_title('Men', fontsize=12, pad=5, color=men_color)\n",
    "    bar_female = axes[1].barh(labels, counts_female, align='center', color=women_color, zorder=10)\n",
    "    axes[1].set_title('Women', fontsize=12, pad=5, color=women_color)\n",
    "    # invert axis (mirrow x, y from highest to lowest value)\n",
    "    axes[0].invert_xaxis() \n",
    "    plt.gca().invert_yaxis()\n",
    "    # y axis tick format\n",
    "    plt.gca().set_yticks(labels)\n",
    "    axes[0].yaxis.tick_right()\n",
    "    axes[0].set_yticklabels(labels, ha='center', color=common_color)\n",
    "    axes[0].tick_params(axis='y', pad=18, size=15, color=men_color_light)\n",
    "    axes[1].tick_params(axis='y', size=15, color=women_color_light)\n",
    "    # set tick values in x axis\n",
    "    max_val = max(np.maximum(counts_male, counts_female))\n",
    "    max_xtick = ((max_val // 100) + 1) * 100\n",
    "    min_xtick = max_xtick / 10\n",
    "    axes[0].set_xticks([min_xtick, max_xtick])\n",
    "    axes[1].set_xticks([min_xtick, max_xtick])\n",
    "    # remove square surrounding chart and keep only used axes\n",
    "    axes[0].spines['left'].set_visible(False)\n",
    "    axes[0].spines['top'].set_visible(False)\n",
    "    axes[1].spines['right'].set_visible(False)\n",
    "    axes[1].spines['top'].set_visible(False)\n",
    "    # change axes colors\n",
    "    axes[0].spines['bottom'].set_color(men_color_light)\n",
    "    axes[0].spines['right'].set_color(men_color_light)\n",
    "    axes[1].spines['bottom'].set_color(women_color_light)\n",
    "    axes[1].spines['left'].set_color(women_color_light)\n",
    "    axes[0].tick_params(axis='x', colors=men_color_light)\n",
    "    axes[1].tick_params(axis='x', colors=women_color_light)\n",
    "    axes[0].xaxis.label.set_color(men_color)\n",
    "    axes[1].xaxis.label.set_color(women_color)\n",
    "    # show bar value\n",
    "    axes[0].bar_label(bar_male, padding=2, color=men_color, size=8)\n",
    "    axes[1].bar_label(bar_female, padding=2, color=women_color, size=8)\n",
    "    plt.subplots_adjust(wspace=0.4, top=0.70)\n",
    "    # Chart title\n",
    "    fig.suptitle('# of unique women and men quoted each year', fontsize=14, color=common_color)\n",
    "    # Subxlabel\n",
    "    fig.supxlabel('5200 articles sampled each year from 2016 to 2020 \\\n",
    "    \\n1300 articles from each of the 4 newspapers analyzed \\\n",
    "    \\n ** = p < 0.005', fontsize=8, y=-0.28, color=common_color)\n",
    "    # Add lines depicting statistically significant differences:\n",
    "    axes[0].annotate('',xy=(520,2020))\n",
    "    # save chart and show\n",
    "    plt.savefig('img/unique_mentions_genre.png', bbox_inches=\"tight\", dpi=200)\n",
    "    plt.show()   "
   ]
  },
  {
   "cell_type": "code",
   "execution_count": 109,
   "id": "c2a71893",
   "metadata": {},
   "outputs": [
    {
     "data": {
      "image/png": "[encoded data removed]",
      "text/plain": [
       "<Figure size 700x175 with 2 Axes>"
      ]
     },
     "metadata": {},
     "output_type": "display_data"
    }
   ],
   "source": [
    "vals_unique_people_years = people_years.loc[people_years['gender'].isin(['female', 'male'])].groupby(['year', 'gender'])['full_name'].nunique()\n",
    "unique_people_years(vals_unique_people_years[:,'male'], vals_unique_people_years[:,'female'])"
   ]
  },
  {
   "cell_type": "code",
   "execution_count": 110,
   "id": "a8200660",
   "metadata": {},
   "outputs": [
    {
     "name": "stdout",
     "output_type": "stream",
     "text": [
      "Unique women and men mentioned are different in year 2016, p = 0.00000\n",
      "Unique women and men mentioned are different in year 2017, p = 0.00000\n",
      "Unique women and men mentioned are different in year 2018, p = 0.00000\n",
      "Unique women and men mentioned are different in year 2019, p = 0.00000\n",
      "Unique women and men mentioned are different in year 2020, p = 0.00000\n",
      "Bonferroni corrected alpha = 0.01\n"
     ]
    }
   ],
   "source": [
    "unique_men_years = dict(people_years.loc[people_years['gender']=='male'].groupby('year')['full_name'].nunique())\n",
    "unique_women_years = dict(people_years.loc[people_years['gender']=='female'].groupby('year')['full_name'].nunique())\n",
    "gender_yearly_comparison(unique_men_years, unique_women_years, 'Unique women and men mentioned')"
   ]
  },
  {
   "cell_type": "markdown",
   "id": "3f62d54a",
   "metadata": {},
   "source": [
    "#### Does the number of unique men mentioned change across years?"
   ]
  },
  {
   "cell_type": "markdown",
   "id": "71947c07",
   "metadata": {},
   "source": [
    "There is a significant difference across years:"
   ]
  },
  {
   "cell_type": "code",
   "execution_count": 111,
   "id": "ddaa698e",
   "metadata": {},
   "outputs": [
    {
     "name": "stdout",
     "output_type": "stream",
     "text": [
      "p = 0.00009\n"
     ]
    }
   ],
   "source": [
    "unique_men = [unique_men_years[key] for key in unique_men_years]\n",
    "# chi-square test:\n",
    "chisq, p = chisquare(unique_men)\n",
    "print(f'p = {p:4.5f}')"
   ]
  },
  {
   "cell_type": "markdown",
   "id": "2a2542b6",
   "metadata": {},
   "source": [
    "Pairwise combinations show that 2016 and 2017 are different from 2018, 2019 and 2020:"
   ]
  },
  {
   "cell_type": "code",
   "execution_count": 112,
   "id": "1cac9d59",
   "metadata": {
    "scrolled": true
   },
   "outputs": [
    {
     "name": "stdout",
     "output_type": "stream",
     "text": [
      "2016 and 2018 are statistically different, p = 0.00053\n",
      "2016 and 2019 are statistically different, p = 0.00336\n",
      "2016 and 2020 are statistically different, p = 0.00086\n",
      "2017 and 2018 are statistically different, p = 0.00104\n",
      "2017 and 2020 are statistically different, p = 0.00165\n",
      "Bonferroni corrected alpha = 0.005\n"
     ]
    }
   ],
   "source": [
    "pairwise_years_comparisons(unique_men_years)"
   ]
  },
  {
   "cell_type": "markdown",
   "id": "08f67d47",
   "metadata": {},
   "source": [
    "#### Does the number of unique women mentioned change across years?"
   ]
  },
  {
   "cell_type": "code",
   "execution_count": 113,
   "id": "1d917164",
   "metadata": {},
   "outputs": [
    {
     "name": "stdout",
     "output_type": "stream",
     "text": [
      "p = 0.01879\n"
     ]
    }
   ],
   "source": [
    "unique_women = [unique_women_years[key] for key in unique_women_years]\n",
    "# chi-square test:\n",
    "chisq, p = chisquare(unique_women)\n",
    "print(f'p = {p:4.5f}')"
   ]
  },
  {
   "cell_type": "markdown",
   "id": "b14ed951",
   "metadata": {},
   "source": [
    "There is evidence that not all years are equal (above). However, when doing pair-wise comparisons, there is no significant difference in any pair of years. This is in stark contrast with men, where there is highly significant increase in the latter years."
   ]
  },
  {
   "cell_type": "code",
   "execution_count": 114,
   "id": "896e0cfd",
   "metadata": {},
   "outputs": [
    {
     "name": "stdout",
     "output_type": "stream",
     "text": [
      "2017 and 2020 are statistically different, p = 0.00490\n",
      "Bonferroni corrected alpha = 0.005\n"
     ]
    }
   ],
   "source": [
    "pairwise_years_comparisons(unique_women_years)"
   ]
  },
  {
   "cell_type": "markdown",
   "id": "628a9c87",
   "metadata": {},
   "source": [
    "### Average number of men and women quoted per article"
   ]
  },
  {
   "cell_type": "code",
   "execution_count": 115,
   "id": "6c9ea33f",
   "metadata": {},
   "outputs": [
    {
     "data": {
      "text/html": [
       "<div>\n",
       "<style scoped>\n",
       "    .dataframe tbody tr th:only-of-type {\n",
       "        vertical-align: middle;\n",
       "    }\n",
       "\n",
       "    .dataframe tbody tr th {\n",
       "        vertical-align: top;\n",
       "    }\n",
       "\n",
       "    .dataframe thead th {\n",
       "        text-align: right;\n",
       "    }\n",
       "</style>\n",
       "<table border=\"1\" class=\"dataframe\">\n",
       "  <thead>\n",
       "    <tr style=\"text-align: right;\">\n",
       "      <th></th>\n",
       "      <th>mentions_STEM_men</th>\n",
       "      <th>mentions_STEM_women</th>\n",
       "    </tr>\n",
       "    <tr>\n",
       "      <th>year</th>\n",
       "      <th></th>\n",
       "      <th></th>\n",
       "    </tr>\n",
       "  </thead>\n",
       "  <tbody>\n",
       "    <tr>\n",
       "      <th>2016</th>\n",
       "      <td>368</td>\n",
       "      <td>124</td>\n",
       "    </tr>\n",
       "    <tr>\n",
       "      <th>2017</th>\n",
       "      <td>374</td>\n",
       "      <td>119</td>\n",
       "    </tr>\n",
       "    <tr>\n",
       "      <th>2018</th>\n",
       "      <td>471</td>\n",
       "      <td>132</td>\n",
       "    </tr>\n",
       "    <tr>\n",
       "      <th>2019</th>\n",
       "      <td>454</td>\n",
       "      <td>160</td>\n",
       "    </tr>\n",
       "    <tr>\n",
       "      <th>2020</th>\n",
       "      <td>473</td>\n",
       "      <td>168</td>\n",
       "    </tr>\n",
       "  </tbody>\n",
       "</table>\n",
       "</div>"
      ],
      "text/plain": [
       "      mentions_STEM_men  mentions_STEM_women\n",
       "year                                        \n",
       "2016                368                  124\n",
       "2017                374                  119\n",
       "2018                471                  132\n",
       "2019                454                  160\n",
       "2020                473                  168"
      ]
     },
     "execution_count": 115,
     "metadata": {},
     "output_type": "execute_result"
    }
   ],
   "source": [
    "mentions_years = articles[['mentions_STEM_men', 'mentions_STEM_women', 'year']].groupby('year').sum()\n",
    "mentions_years"
   ]
  },
  {
   "cell_type": "code",
   "execution_count": 116,
   "id": "c27ea3c7",
   "metadata": {},
   "outputs": [
    {
     "data": {
      "text/html": [
       "<div>\n",
       "<style scoped>\n",
       "    .dataframe tbody tr th:only-of-type {\n",
       "        vertical-align: middle;\n",
       "    }\n",
       "\n",
       "    .dataframe tbody tr th {\n",
       "        vertical-align: top;\n",
       "    }\n",
       "\n",
       "    .dataframe thead th {\n",
       "        text-align: right;\n",
       "    }\n",
       "</style>\n",
       "<table border=\"1\" class=\"dataframe\">\n",
       "  <thead>\n",
       "    <tr style=\"text-align: right;\">\n",
       "      <th></th>\n",
       "      <th>mentions_STEM_men</th>\n",
       "      <th>mentions_STEM_women</th>\n",
       "      <th>men_per_article</th>\n",
       "      <th>women_per_article</th>\n",
       "    </tr>\n",
       "    <tr>\n",
       "      <th>year</th>\n",
       "      <th></th>\n",
       "      <th></th>\n",
       "      <th></th>\n",
       "      <th></th>\n",
       "    </tr>\n",
       "  </thead>\n",
       "  <tbody>\n",
       "    <tr>\n",
       "      <th>2016</th>\n",
       "      <td>368</td>\n",
       "      <td>124</td>\n",
       "      <td>1.063584</td>\n",
       "      <td>0.358382</td>\n",
       "    </tr>\n",
       "    <tr>\n",
       "      <th>2017</th>\n",
       "      <td>374</td>\n",
       "      <td>119</td>\n",
       "      <td>1.133333</td>\n",
       "      <td>0.360606</td>\n",
       "    </tr>\n",
       "    <tr>\n",
       "      <th>2018</th>\n",
       "      <td>471</td>\n",
       "      <td>132</td>\n",
       "      <td>1.269542</td>\n",
       "      <td>0.355795</td>\n",
       "    </tr>\n",
       "    <tr>\n",
       "      <th>2019</th>\n",
       "      <td>454</td>\n",
       "      <td>160</td>\n",
       "      <td>1.185379</td>\n",
       "      <td>0.417755</td>\n",
       "    </tr>\n",
       "    <tr>\n",
       "      <th>2020</th>\n",
       "      <td>473</td>\n",
       "      <td>168</td>\n",
       "      <td>1.139759</td>\n",
       "      <td>0.404819</td>\n",
       "    </tr>\n",
       "  </tbody>\n",
       "</table>\n",
       "</div>"
      ],
      "text/plain": [
       "      mentions_STEM_men  mentions_STEM_women  men_per_article  \\\n",
       "year                                                            \n",
       "2016                368                  124         1.063584   \n",
       "2017                374                  119         1.133333   \n",
       "2018                471                  132         1.269542   \n",
       "2019                454                  160         1.185379   \n",
       "2020                473                  168         1.139759   \n",
       "\n",
       "      women_per_article  \n",
       "year                     \n",
       "2016           0.358382  \n",
       "2017           0.360606  \n",
       "2018           0.355795  \n",
       "2019           0.417755  \n",
       "2020           0.404819  "
      ]
     },
     "execution_count": 116,
     "metadata": {},
     "output_type": "execute_result"
    }
   ],
   "source": [
    "n_articles_mentioning_years = articles.reset_index().loc[(articles.reset_index()['mentions_STEM_men'] > 0) | (articles.reset_index()['mentions_STEM_women'] >0)].groupby('year')['article_id'].count()\n",
    "men_per_article = [mentions_years.loc[year]['mentions_STEM_men']/n_articles_mentioning_years[year] for year in range(2016,2021)]\n",
    "women_per_article = [mentions_years.loc[year]['mentions_STEM_women']/n_articles_mentioning_years[year] for year in range(2016,2021)]\n",
    "mentions_years['men_per_article'] = men_per_article\n",
    "mentions_years['women_per_article'] = women_per_article\n",
    "mentions_years"
   ]
  },
  {
   "cell_type": "code",
   "execution_count": 117,
   "id": "db55d312",
   "metadata": {},
   "outputs": [
    {
     "data": {
      "text/plain": [
       "array([1.06358382, 1.13333333, 1.26954178, 1.18537859, 1.13975904])"
      ]
     },
     "execution_count": 117,
     "metadata": {},
     "output_type": "execute_result"
    }
   ],
   "source": [
    "mentions_years['men_per_article'].values"
   ]
  },
  {
   "cell_type": "code",
   "execution_count": 118,
   "id": "4081b8d0",
   "metadata": {},
   "outputs": [],
   "source": [
    "def mentions_per_article(counts_male, counts_female, plot_title, subxlabel):\n",
    "    ''' Plot a mirror horizontal bar from 2016 to 2020\n",
    "    \n",
    "    INPUT:\n",
    "        counts_male (numpy array): \n",
    "        counts_female (numpy array): \n",
    "    '''\n",
    "\n",
    "    labels = [2016, 2017, 2018, 2019, 2020]\n",
    "    # build charts\n",
    "    fig, axes = plt.subplots(figsize=(7,1.75), ncols=2, sharey=True)\n",
    "    bar_male = axes[0].barh(labels, counts_male, align='center', color=men_color, zorder=10)\n",
    "    axes[0].set_title('Men', fontsize=12, pad=5, color=men_color)\n",
    "    bar_female = axes[1].barh(labels, counts_female, align='center', color=women_color, zorder=10)\n",
    "    axes[1].set_title('Women', fontsize=12, pad=5, color=women_color)\n",
    "    # invert axis (mirrow x, y from highest to lowest value)\n",
    "    axes[0].invert_xaxis() \n",
    "    plt.gca().invert_yaxis()\n",
    "    # y axis tick format\n",
    "    plt.gca().set_yticks(labels)\n",
    "    axes[0].yaxis.tick_right()\n",
    "    axes[0].set_yticklabels(labels, ha='center', color=common_color)\n",
    "    axes[0].tick_params(axis='y', pad=18, size=15, color=men_color_light)\n",
    "    axes[1].tick_params(axis='y', size=15, color=women_color_light)\n",
    "    # set tick values in x axis\n",
    "    max_val = max(np.maximum(counts_male, counts_female))\n",
    "    max_xtick = round(max_val,1) + 0.1\n",
    "    min_xtick = 0.5\n",
    "    axes[0].set_xticks([min_xtick, max_xtick])\n",
    "    axes[1].set_xticks([min_xtick, max_xtick])\n",
    "    # remove square surrounding chart and keep only used axes\n",
    "    axes[0].spines['left'].set_visible(False)\n",
    "    axes[0].spines['top'].set_visible(False)\n",
    "    axes[1].spines['right'].set_visible(False)\n",
    "    axes[1].spines['top'].set_visible(False)\n",
    "    # change axes colors\n",
    "    axes[0].spines['bottom'].set_color(men_color_light)\n",
    "    axes[0].spines['right'].set_color(men_color_light)\n",
    "    axes[1].spines['bottom'].set_color(women_color_light)\n",
    "    axes[1].spines['left'].set_color(women_color_light)\n",
    "    axes[0].tick_params(axis='x', colors=men_color_light)\n",
    "    axes[1].tick_params(axis='x', colors=women_color_light)\n",
    "    axes[0].xaxis.label.set_color(men_color)\n",
    "    axes[1].xaxis.label.set_color(women_color)\n",
    "    # show bar value\n",
    "    axes[0].bar_label(bar_male, padding=2, color=men_color, size=8, fmt='{:,.2f}')\n",
    "    axes[1].bar_label(bar_female, padding=2, color=women_color, size=8, fmt='{:,.2f}')\n",
    "    plt.subplots_adjust(wspace=0.4, top=0.70)\n",
    "    # Chart title\n",
    "    fig.suptitle('# STEM people quoted per article each year', fontsize=14, color=common_color)\n",
    "    # Subxlabel\n",
    "    fig.supxlabel('5200 articles sampled each year from 2016 to 2020 \\\n",
    "    \\n1300 articles from each of the 4 newspapers analyzed \\\n",
    "    \\nOnly articles quoting at least 1 STEM person are considered', \\\n",
    "                  fontsize=8, y=-0.25, color=common_color)\n",
    "    plt.savefig('img/people_per_article_genre.png', bbox_inches=\"tight\", dpi=200)\n",
    "    plt.show()   "
   ]
  },
  {
   "cell_type": "code",
   "execution_count": 119,
   "id": "7b98eb72",
   "metadata": {},
   "outputs": [
    {
     "data": {
      "image/png": "[encoded data removed]",
      "text/plain": [
       "<Figure size 700x175 with 2 Axes>"
      ]
     },
     "metadata": {},
     "output_type": "display_data"
    }
   ],
   "source": [
    "mentions_per_article(mentions_years['men_per_article'].values, mentions_years['women_per_article'].values, \\\n",
    "                 plot_title = '# STEM people mentioned per article', subxlabel = '5200 articles sampled each year from 2016 to 2020\\n1300 articles from each of the 4 newspapers analyzed\\nOnly articles mentioning at least 1 STEM person are considered')"
   ]
  },
  {
   "cell_type": "markdown",
   "id": "e1c2ef06",
   "metadata": {},
   "source": [
    "### % quotes of women and men across years"
   ]
  },
  {
   "cell_type": "code",
   "execution_count": 120,
   "id": "19c4f832",
   "metadata": {},
   "outputs": [
    {
     "data": {
      "text/html": [
       "<div>\n",
       "<style scoped>\n",
       "    .dataframe tbody tr th:only-of-type {\n",
       "        vertical-align: middle;\n",
       "    }\n",
       "\n",
       "    .dataframe tbody tr th {\n",
       "        vertical-align: top;\n",
       "    }\n",
       "\n",
       "    .dataframe thead th {\n",
       "        text-align: right;\n",
       "    }\n",
       "</style>\n",
       "<table border=\"1\" class=\"dataframe\">\n",
       "  <thead>\n",
       "    <tr style=\"text-align: right;\">\n",
       "      <th></th>\n",
       "      <th>mentions_STEM_men</th>\n",
       "      <th>mentions_STEM_women</th>\n",
       "      <th>men_per_article</th>\n",
       "      <th>women_per_article</th>\n",
       "      <th>pcg_men</th>\n",
       "      <th>pcg_women</th>\n",
       "    </tr>\n",
       "    <tr>\n",
       "      <th>year</th>\n",
       "      <th></th>\n",
       "      <th></th>\n",
       "      <th></th>\n",
       "      <th></th>\n",
       "      <th></th>\n",
       "      <th></th>\n",
       "    </tr>\n",
       "  </thead>\n",
       "  <tbody>\n",
       "    <tr>\n",
       "      <th>2016</th>\n",
       "      <td>368</td>\n",
       "      <td>124</td>\n",
       "      <td>1.063584</td>\n",
       "      <td>0.358382</td>\n",
       "      <td>0.747967</td>\n",
       "      <td>0.252033</td>\n",
       "    </tr>\n",
       "    <tr>\n",
       "      <th>2017</th>\n",
       "      <td>374</td>\n",
       "      <td>119</td>\n",
       "      <td>1.133333</td>\n",
       "      <td>0.360606</td>\n",
       "      <td>0.758621</td>\n",
       "      <td>0.241379</td>\n",
       "    </tr>\n",
       "    <tr>\n",
       "      <th>2018</th>\n",
       "      <td>471</td>\n",
       "      <td>132</td>\n",
       "      <td>1.269542</td>\n",
       "      <td>0.355795</td>\n",
       "      <td>0.781095</td>\n",
       "      <td>0.218905</td>\n",
       "    </tr>\n",
       "    <tr>\n",
       "      <th>2019</th>\n",
       "      <td>454</td>\n",
       "      <td>160</td>\n",
       "      <td>1.185379</td>\n",
       "      <td>0.417755</td>\n",
       "      <td>0.739414</td>\n",
       "      <td>0.260586</td>\n",
       "    </tr>\n",
       "    <tr>\n",
       "      <th>2020</th>\n",
       "      <td>473</td>\n",
       "      <td>168</td>\n",
       "      <td>1.139759</td>\n",
       "      <td>0.404819</td>\n",
       "      <td>0.737910</td>\n",
       "      <td>0.262090</td>\n",
       "    </tr>\n",
       "  </tbody>\n",
       "</table>\n",
       "</div>"
      ],
      "text/plain": [
       "      mentions_STEM_men  mentions_STEM_women  men_per_article  \\\n",
       "year                                                            \n",
       "2016                368                  124         1.063584   \n",
       "2017                374                  119         1.133333   \n",
       "2018                471                  132         1.269542   \n",
       "2019                454                  160         1.185379   \n",
       "2020                473                  168         1.139759   \n",
       "\n",
       "      women_per_article   pcg_men  pcg_women  \n",
       "year                                          \n",
       "2016           0.358382  0.747967   0.252033  \n",
       "2017           0.360606  0.758621   0.241379  \n",
       "2018           0.355795  0.781095   0.218905  \n",
       "2019           0.417755  0.739414   0.260586  \n",
       "2020           0.404819  0.737910   0.262090  "
      ]
     },
     "execution_count": 120,
     "metadata": {},
     "output_type": "execute_result"
    }
   ],
   "source": [
    "mentions_years['pcg_men'] = mentions_years['mentions_STEM_men'] / (mentions_years['mentions_STEM_men'] + mentions_years['mentions_STEM_women'])\n",
    "mentions_years['pcg_women'] = mentions_years['mentions_STEM_women'] / (mentions_years['mentions_STEM_men'] + mentions_years['mentions_STEM_women'])\n",
    "mentions_years"
   ]
  },
  {
   "cell_type": "markdown",
   "id": "f3af14c2",
   "metadata": {},
   "source": [
    "## 6. Distribution of quotes per newspaper <a class=\"anchor\" id=\"quotes-gender-newspaper\"></a>"
   ]
  },
  {
   "cell_type": "code",
   "execution_count": 121,
   "id": "8bd2d9eb",
   "metadata": {},
   "outputs": [
    {
     "data": {
      "text/plain": [
       "site\n",
       "abc.es              380\n",
       "elmundo.es          328\n",
       "elpais.com          747\n",
       "lavanguardia.com    390\n",
       "Name: article_id, dtype: int64"
      ]
     },
     "execution_count": 121,
     "metadata": {},
     "output_type": "execute_result"
    }
   ],
   "source": [
    "articles_stem.reset_index().groupby('site')['article_id'].count()"
   ]
  },
  {
   "cell_type": "code",
   "execution_count": 122,
   "id": "18bbb202",
   "metadata": {},
   "outputs": [
    {
     "data": {
      "text/plain": [
       "{'abc.es': 380, 'elmundo.es': 328, 'elpais.com': 747, 'lavanguardia.com': 390}"
      ]
     },
     "execution_count": 122,
     "metadata": {},
     "output_type": "execute_result"
    }
   ],
   "source": [
    "stem_mentions_sources = dict(articles_stem.reset_index().groupby('site')['article_id'].count())\n",
    "stem_mentions_sources"
   ]
  },
  {
   "cell_type": "markdown",
   "id": "144e82e7",
   "metadata": {},
   "source": [
    "Let's see if gender bias is more pronounced in any newspaper. To do so, we use a chi-square independence test (see [here](https://rowannicholls.github.io/python/statistics/hypothesis_testing/chi_squared.html)):"
   ]
  },
  {
   "cell_type": "code",
   "execution_count": 123,
   "id": "0ffea301",
   "metadata": {},
   "outputs": [
    {
     "data": {
      "text/plain": [
       "{'abc.es': 111, 'elmundo.es': 105, 'elpais.com': 260, 'lavanguardia.com': 126}"
      ]
     },
     "execution_count": 123,
     "metadata": {},
     "output_type": "execute_result"
    }
   ],
   "source": [
    "mentions_women = articles.loc[articles['mentions_STEM_women'] > 0]\n",
    "mentions_women_sources_dict = dict(mentions_women.reset_index().groupby('site')['article_id'].count())\n",
    "mentions_women_sources_dict"
   ]
  },
  {
   "cell_type": "code",
   "execution_count": 124,
   "id": "e7eefa50",
   "metadata": {},
   "outputs": [
    {
     "data": {
      "text/plain": [
       "{'abc.es': 306, 'elmundo.es': 266, 'elpais.com': 590, 'lavanguardia.com': 314}"
      ]
     },
     "execution_count": 124,
     "metadata": {},
     "output_type": "execute_result"
    }
   ],
   "source": [
    "mentions_men = articles.loc[articles['mentions_STEM_men'] > 0]\n",
    "mentions_men_sources_dict = dict(mentions_men.reset_index().groupby('site')['article_id'].count())\n",
    "mentions_men_sources_dict"
   ]
  },
  {
   "cell_type": "code",
   "execution_count": 125,
   "id": "0ef579ea",
   "metadata": {},
   "outputs": [],
   "source": [
    "mentions_men_sources = [mentions_men_sources_dict[key] for key in mentions_men_sources_dict]\n",
    "mentions_women_sources = [mentions_women_sources_dict[key] for key in mentions_women_sources_dict]"
   ]
  },
  {
   "cell_type": "code",
   "execution_count": 126,
   "id": "3d7c8228",
   "metadata": {},
   "outputs": [
    {
     "name": "stdout",
     "output_type": "stream",
     "text": [
      "p = 0.5\n"
     ]
    }
   ],
   "source": [
    "# Are two distributions independent?\n",
    "observations = np.array([mentions_men_sources, mentions_women_sources])\n",
    "row_totals = np.array([np.sum(observations, axis=1)])\n",
    "col_totals = np.array([np.sum(observations, axis=0)])\n",
    "n = np.sum(observations)\n",
    "# Calculate the expected observations\n",
    "expected = np.dot(row_totals.T, col_totals) / n\n",
    "# Calculate the chi-square test statistic\n",
    "chisq, p = chisquare(observations, expected)\n",
    "chisq = np.sum(chisq)\n",
    "# Degrees of freedom\n",
    "rows = observations.shape[0]\n",
    "cols = observations.shape[1]\n",
    "df = (rows - 1) * (cols - 1)\n",
    "# Convert chi-square test statistic to p-value\n",
    "p = 1 - chi2.cdf(chisq, df)\n",
    "print(f'p = {p:3.1f}')"
   ]
  },
  {
   "cell_type": "markdown",
   "id": "301d52f0",
   "metadata": {},
   "source": [
    "Given the result, we cannot reject the hypothesis that the distribution of gender bias is independent of the newspaper, that is, there is no evidence to suggest that there is a difference in gender bias in any of the 4 newspapers analyzed (all have a similar gender bias)."
   ]
  }
 ],
 "metadata": {
  "kernelspec": {
   "display_name": "stem_people",
   "language": "python",
   "name": "stem_people"
  },
  "language_info": {
   "codemirror_mode": {
    "name": "ipython",
    "version": 3
   },
   "file_extension": ".py",
   "mimetype": "text/x-python",
   "name": "python",
   "nbconvert_exporter": "python",
   "pygments_lexer": "ipython3",
   "version": "3.10.9"
  }
 },
 "nbformat": 4,
 "nbformat_minor": 5
}
